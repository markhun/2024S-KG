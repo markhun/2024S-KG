{
 "cells": [
  {
   "cell_type": "code",
   "execution_count": 1,
   "metadata": {},
   "outputs": [],
   "source": [
    "from neo4j import GraphDatabase"
   ]
  },
  {
   "cell_type": "code",
   "execution_count": 2,
   "metadata": {},
   "outputs": [
    {
     "name": "stdout",
     "output_type": "stream",
     "text": [
      "Connection established.\n"
     ]
    }
   ],
   "source": [
    "# URI examples: \"neo4j://localhost\", \"neo4j+s://xxx.databases.neo4j.io\"\n",
    "URI = \"bolt://localhost:7687\"\n",
    "AUTH = (\"neo4j\", \"password\")\n",
    "\n",
    "with GraphDatabase.driver(URI, auth=AUTH) as driver:\n",
    "    driver.verify_connectivity()\n",
    "    print(\"Connection established.\")"
   ]
  },
  {
   "cell_type": "code",
   "execution_count": 3,
   "metadata": {},
   "outputs": [],
   "source": [
    "def run_query(query, params={}):\n",
    "    with GraphDatabase.driver(URI, auth=AUTH) as driver:\n",
    "        result = driver.execute_query(query, params)\n",
    "        return result"
   ]
  },
  {
   "cell_type": "markdown",
   "metadata": {},
   "source": [
    "# GraphSAGE Embeddings"
   ]
  },
  {
   "cell_type": "markdown",
   "metadata": {},
   "source": [
    "First we need to build an in-memory projection representing the sub-graph on which we want to train our embedding model.\n",
    "The projection includes all RATED predicates with a `rating` of 4 or higher. Therefore our projection consists of all user-RATED-book triples which can be described as a certain user liked a certain book.\n",
    "\n",
    "Our goal is to construct graph embeddings which allow us to find books similar to a specified book, where \"similar\" means liked by similar users.\n",
    "We also include the `RATED.rating` property in our projection. As GraphSAGE can use a numeric predicate property to place nodes with high property values closer together. "
   ]
  },
  {
   "cell_type": "code",
   "execution_count": 4,
   "metadata": {},
   "outputs": [],
   "source": [
    "create_user_liked_book_projection = \"\"\"\n",
    "MATCH (src:User)-[r:RATED]->(target:Book)\n",
    "WHERE r.rating >= 4\n",
    "RETURN gds.graph.project(\n",
    "    \"UserLikedBookProjection\",\n",
    "    src, \n",
    "    target,\n",
    "    {\n",
    "        sourceNodeLabels: labels(src),\n",
    "        sourceNodeProperties: NULL,\n",
    "        targetNodeLabels: labels(target),\n",
    "        targetNodeProperties: target { .average_rating, .ratings_count, .work_ratings_count, .work_text_reviews_count, .ratings_1, .ratings_2,  .ratings_3,  .ratings_4,  .ratings_5  },\n",
    "        relationshipType: type(r),\n",
    "        relationshipProperties: r { .rating }\n",
    "    }\n",
    ")\n",
    "\"\"\""
   ]
  },
  {
   "cell_type": "code",
   "execution_count": 5,
   "metadata": {},
   "outputs": [
    {
     "name": "stdout",
     "output_type": "stream",
     "text": [
      "CPU times: user 6.66 ms, sys: 939 μs, total: 7.6 ms\n",
      "Wall time: 37.1 s\n"
     ]
    }
   ],
   "source": [
    "%%time\n",
    "result = run_query(create_user_liked_book_projection)"
   ]
  },
  {
   "cell_type": "code",
   "execution_count": 6,
   "metadata": {},
   "outputs": [
    {
     "data": {
      "text/plain": [
       "{'gds.graph.project(\\n    \"UserLikedBookProjection\",\\n    src, \\n    target,\\n    {\\n        sourceNodeLabels: labels(src),\\n        sourceNodeProperties: NULL,\\n        targetNodeLabels: labels(target),\\n        targetNodeProperties: target { .average_rating, .ratings_count, .work_ratings_count, .work_text_reviews_count, .ratings_1, .ratings_2,  .ratings_3,  .ratings_4,  .ratings_5  },\\n        relationshipType: type(r),\\n        relationshipProperties: r { .rating }\\n    }\\n)': {'relationshipCount': 4122111,\n",
       "  'graphName': 'UserLikedBookProjection',\n",
       "  'query': '\\nMATCH (src:User)-[r:RATED]->(target:Book)\\nWHERE r.rating >= 4\\nRETURN gds.graph.project(\\n    \"UserLikedBookProjection\",\\n    src, \\n    target,\\n    {\\n        sourceNodeLabels: labels(src),\\n        sourceNodeProperties: NULL,\\n        targetNodeLabels: labels(target),\\n        targetNodeProperties: target { .average_rating, .ratings_count, .work_ratings_count, .work_text_reviews_count, .ratings_1, .ratings_2,  .ratings_3,  .ratings_4,  .ratings_5  },\\n        relationshipType: type(r),\\n        relationshipProperties: r { .rating }\\n    }\\n)\\n',\n",
       "  'projectMillis': 36591,\n",
       "  'configuration': {'readConcurrency': 4,\n",
       "   'undirectedRelationshipTypes': [],\n",
       "   'jobId': 'a75f5354-034b-487b-b25b-3c788549bfe6',\n",
       "   'logProgress': True,\n",
       "   'query': '\\nMATCH (src:User)-[r:RATED]->(target:Book)\\nWHERE r.rating >= 4\\nRETURN gds.graph.project(\\n    \"UserLikedBookProjection\",\\n    src, \\n    target,\\n    {\\n        sourceNodeLabels: labels(src),\\n        sourceNodeProperties: NULL,\\n        targetNodeLabels: labels(target),\\n        targetNodeProperties: target { .average_rating, .ratings_count, .work_ratings_count, .work_text_reviews_count, .ratings_1, .ratings_2,  .ratings_3,  .ratings_4,  .ratings_5  },\\n        relationshipType: type(r),\\n        relationshipProperties: r { .rating }\\n    }\\n)\\n',\n",
       "   'inverseIndexedRelationshipTypes': [],\n",
       "   'creationTime': neo4j.time.DateTime(2024, 9, 25, 18, 40, 37, 388449827, tzinfo=<UTC>)},\n",
       "  'nodeCount': 63406}}"
      ]
     },
     "execution_count": 6,
     "metadata": {},
     "output_type": "execute_result"
    }
   ],
   "source": [
    "dict(result.records[0])"
   ]
  },
  {
   "cell_type": "code",
   "execution_count": 7,
   "metadata": {},
   "outputs": [],
   "source": [
    "inspect_graph_projection= \"\"\"CALL gds.graph.list(\"UserLikedBookProjection\")\"\"\""
   ]
  },
  {
   "cell_type": "code",
   "execution_count": 8,
   "metadata": {},
   "outputs": [
    {
     "name": "stderr",
     "output_type": "stream",
     "text": [
      "Received notification from DBMS server: {severity: WARNING} {code: Neo.ClientNotification.Statement.FeatureDeprecationWarning} {category: DEPRECATION} {title: This feature is deprecated and will be removed in future versions.} {description: The query used a deprecated field from a procedure. ('schema' returned by 'gds.graph.list' is deprecated.)} {position: line: 1, column: 1, offset: 0} for query: 'CALL gds.graph.list(\"UserLikedBookProjection\")'\n"
     ]
    }
   ],
   "source": [
    "result = run_query(inspect_graph_projection)"
   ]
  },
  {
   "cell_type": "code",
   "execution_count": 9,
   "metadata": {},
   "outputs": [
    {
     "data": {
      "text/plain": [
       "{'degreeDistribution': {'min': 0,\n",
       "  'max': 194,\n",
       "  'p90': 107,\n",
       "  'p999': 166,\n",
       "  'p99': 143,\n",
       "  'p50': 70,\n",
       "  'p75': 90,\n",
       "  'p95': 119,\n",
       "  'mean': 65.01137116361228},\n",
       " 'graphName': 'UserLikedBookProjection',\n",
       " 'database': 'neo4j',\n",
       " 'databaseLocation': 'local',\n",
       " 'memoryUsage': '48 MiB',\n",
       " 'sizeInBytes': 50430576,\n",
       " 'nodeCount': 63406,\n",
       " 'relationshipCount': 4122111,\n",
       " 'configuration': {'readConcurrency': 4,\n",
       "  'undirectedRelationshipTypes': [],\n",
       "  'jobId': 'a75f5354-034b-487b-b25b-3c788549bfe6',\n",
       "  'logProgress': True,\n",
       "  'query': '\\nMATCH (src:User)-[r:RATED]->(target:Book)\\nWHERE r.rating >= 4\\nRETURN gds.graph.project(\\n    \"UserLikedBookProjection\",\\n    src, \\n    target,\\n    {\\n        sourceNodeLabels: labels(src),\\n        sourceNodeProperties: NULL,\\n        targetNodeLabels: labels(target),\\n        targetNodeProperties: target { .average_rating, .ratings_count, .work_ratings_count, .work_text_reviews_count, .ratings_1, .ratings_2,  .ratings_3,  .ratings_4,  .ratings_5  },\\n        relationshipType: type(r),\\n        relationshipProperties: r { .rating }\\n    }\\n)\\n',\n",
       "  'inverseIndexedRelationshipTypes': [],\n",
       "  'creationTime': neo4j.time.DateTime(2024, 9, 25, 18, 40, 37, 388449827, tzinfo=<UTC>)},\n",
       " 'density': 0.0010253350865643447,\n",
       " 'creationTime': neo4j.time.DateTime(2024, 9, 25, 18, 40, 37, 388449827, tzinfo=<UTC>),\n",
       " 'modificationTime': neo4j.time.DateTime(2024, 9, 25, 18, 41, 13, 971684425, tzinfo=<UTC>),\n",
       " 'schema': {'graphProperties': {},\n",
       "  'nodes': {'Book': {'work_text_reviews_count': 'Integer (DefaultValue(-9223372036854775808), PERSISTENT)',\n",
       "    'work_ratings_count': 'Integer (DefaultValue(-9223372036854775808), PERSISTENT)',\n",
       "    'ratings_2': 'Integer (DefaultValue(-9223372036854775808), PERSISTENT)',\n",
       "    'ratings_1': 'Integer (DefaultValue(-9223372036854775808), PERSISTENT)',\n",
       "    'average_rating': 'Float (DefaultValue(NaN), PERSISTENT)',\n",
       "    'ratings_4': 'Integer (DefaultValue(-9223372036854775808), PERSISTENT)',\n",
       "    'ratings_count': 'Integer (DefaultValue(-9223372036854775808), PERSISTENT)',\n",
       "    'ratings_3': 'Integer (DefaultValue(-9223372036854775808), PERSISTENT)',\n",
       "    'ratings_5': 'Integer (DefaultValue(-9223372036854775808), PERSISTENT)'},\n",
       "   'User': {}},\n",
       "  'relationships': {'RATED': {'rating': 'Float (DefaultValue(NaN), TRANSIENT, Aggregation.NONE)'}}},\n",
       " 'schemaWithOrientation': {'graphProperties': {},\n",
       "  'nodes': {'Book': {'work_text_reviews_count': 'Integer (DefaultValue(-9223372036854775808), PERSISTENT)',\n",
       "    'work_ratings_count': 'Integer (DefaultValue(-9223372036854775808), PERSISTENT)',\n",
       "    'ratings_2': 'Integer (DefaultValue(-9223372036854775808), PERSISTENT)',\n",
       "    'ratings_1': 'Integer (DefaultValue(-9223372036854775808), PERSISTENT)',\n",
       "    'average_rating': 'Float (DefaultValue(NaN), PERSISTENT)',\n",
       "    'ratings_4': 'Integer (DefaultValue(-9223372036854775808), PERSISTENT)',\n",
       "    'ratings_count': 'Integer (DefaultValue(-9223372036854775808), PERSISTENT)',\n",
       "    'ratings_3': 'Integer (DefaultValue(-9223372036854775808), PERSISTENT)',\n",
       "    'ratings_5': 'Integer (DefaultValue(-9223372036854775808), PERSISTENT)'},\n",
       "   'User': {}},\n",
       "  'relationships': {'RATED': {'direction': 'DIRECTED',\n",
       "    'properties': {'rating': 'Float (DefaultValue(NaN), TRANSIENT, Aggregation.NONE)'}}}}}"
      ]
     },
     "execution_count": 9,
     "metadata": {},
     "output_type": "execute_result"
    }
   ],
   "source": [
    "dict(result.records[0])"
   ]
  },
  {
   "cell_type": "code",
   "execution_count": 11,
   "metadata": {},
   "outputs": [],
   "source": [
    "# Delete the GraphSAGE model from the model cataloge if it was already trained previously\n",
    "\n",
    "# result = run_query('CALL gds.model.drop(\"UserLikedBookModel\")')"
   ]
  },
  {
   "cell_type": "code",
   "execution_count": 12,
   "metadata": {},
   "outputs": [],
   "source": [
    "train_graphsage_embeddings_model = \"\"\"\n",
    "CALL gds.beta.graphSage.train(\n",
    "    \"UserLikedBookProjection\",\n",
    "    {\n",
    "        modelName: \"UserLikedBookModel\",\n",
    "        activationFunction: \"ReLu\",\n",
    "        embeddingDimension: 64,\n",
    "        aggregator: \"Pool\",\n",
    "        featureProperties: [ \"average_rating\", \"ratings_1\", \"ratings_2\",  \"ratings_3\",  \"ratings_4\",  \"ratings_5\"  ],\n",
    "        projectedFeatureDimension: 8,  // 2 labels + 6 properties\n",
    "        batchSize: 300,\n",
    "        relationshipWeightProperty: 'rating',\n",
    "        maxIterations: 5,\n",
    "        searchDepth: 2,\n",
    "        epochs: 160,\n",
    "        learningRate: 0.03,\n",
    "        randomSeed: 42\n",
    "    }\n",
    ")\n",
    "\"\"\""
   ]
  },
  {
   "cell_type": "code",
   "execution_count": 13,
   "metadata": {},
   "outputs": [
    {
     "name": "stdout",
     "output_type": "stream",
     "text": [
      "CPU times: user 9.25 ms, sys: 4.66 ms, total: 13.9 ms\n",
      "Wall time: 7min 19s\n"
     ]
    }
   ],
   "source": [
    "%%time\n",
    "result = run_query(train_graphsage_embeddings_model)"
   ]
  },
  {
   "cell_type": "markdown",
   "metadata": {},
   "source": [
    "We plot the loss per epoch:"
   ]
  },
  {
   "cell_type": "code",
   "execution_count": 14,
   "metadata": {},
   "outputs": [
    {
     "data": {
      "text/plain": [
       "Text(0, 0.5, 'Loss')"
      ]
     },
     "execution_count": 14,
     "metadata": {},
     "output_type": "execute_result"
    },
    {
     "data": {
      "image/png": "[encoded data removed]",
      "text/plain": [
       "<Figure size 640x480 with 1 Axes>"
      ]
     },
     "metadata": {},
     "output_type": "display_data"
    }
   ],
   "source": [
    "import seaborn as sns\n",
    "import matplotlib.pyplot as plt\n",
    "\n",
    "sns.set_style(\"ticks\")\n",
    "ax= sns.lineplot(x=range(1,result.records[0][0][\"metrics\"][\"ranEpochs\"]+1), y=result.records[0][0][\"metrics\"][\"epochLosses\"])\n",
    "ax.set_ylim(15, 23)\n",
    "sns.despine(trim=True)\n",
    "plt.xlabel(\"Epoch\")\n",
    "plt.ylabel(\"Loss\")"
   ]
  },
  {
   "cell_type": "markdown",
   "metadata": {},
   "source": [
    "We can add the embeddings calculated by our model back into our in-memory graph `UserLikedBookProjection`.\n",
    "\n",
    "For this we first generate a new projection. This time one that includes all `User` and `Book` nodes, even those which might not have a single `RATED` relationship with a rating-property of 4 or higher."
   ]
  },
  {
   "cell_type": "code",
   "execution_count": 15,
   "metadata": {},
   "outputs": [],
   "source": [
    "create_user_book_projection = \"\"\"\n",
    "MATCH (src:User)-[r:RATED]->(target:Book)\n",
    "RETURN gds.graph.project(\n",
    "    \"UserBookProjection\",\n",
    "    src, \n",
    "    target,\n",
    "    {\n",
    "        sourceNodeLabels: labels(src),\n",
    "        sourceNodeProperties: NULL,\n",
    "        targetNodeLabels: labels(target),\n",
    "        targetNodeProperties: target { .average_rating, .ratings_count, .work_ratings_count, .work_text_reviews_count, .ratings_1, .ratings_2,  .ratings_3,  .ratings_4,  .ratings_5  },\n",
    "        relationshipType: type(r),\n",
    "        relationshipProperties: r { .rating }\n",
    "    }\n",
    ")\n",
    "\"\"\""
   ]
  },
  {
   "cell_type": "code",
   "execution_count": 16,
   "metadata": {},
   "outputs": [
    {
     "name": "stdout",
     "output_type": "stream",
     "text": [
      "CPU times: user 3.13 ms, sys: 3.79 ms, total: 6.92 ms\n",
      "Wall time: 23.6 s\n"
     ]
    }
   ],
   "source": [
    "%%time\n",
    "result = run_query(create_user_book_projection)"
   ]
  },
  {
   "cell_type": "markdown",
   "metadata": {},
   "source": [
    "We then use `graphSage.write` to execute our previously trained model on the new projection and write back the resulting embeddings into our actual database graph as a new property for `User` and `Book` nodes named `GraphSageEmbedding`."
   ]
  },
  {
   "cell_type": "code",
   "execution_count": 17,
   "metadata": {},
   "outputs": [],
   "source": [
    "write_graphSage_embeddings_into_graph = \"\"\"\n",
    "CALL gds.beta.graphSage.write(\n",
    "    \"UserBookProjection\",\n",
    "    {\n",
    "        modelName: \"UserLikedBookModel\",\n",
    "        writeProperty: \"GraphSageEmbedding\"\n",
    "    }\n",
    ")\n",
    "\"\"\""
   ]
  },
  {
   "cell_type": "code",
   "execution_count": 18,
   "metadata": {},
   "outputs": [
    {
     "name": "stdout",
     "output_type": "stream",
     "text": [
      "CPU times: user 5.77 ms, sys: 0 ns, total: 5.77 ms\n",
      "Wall time: 6.87 s\n"
     ]
    }
   ],
   "source": [
    "%%time\n",
    "result = run_query(write_graphSage_embeddings_into_graph)"
   ]
  },
  {
   "cell_type": "code",
   "execution_count": 19,
   "metadata": {},
   "outputs": [
    {
     "data": {
      "text/plain": [
       "{'nodeCount': 63424,\n",
       " 'nodePropertiesWritten': 63424,\n",
       " 'preProcessingMillis': 28,\n",
       " 'computeMillis': 4148,\n",
       " 'writeMillis': 2475,\n",
       " 'configuration': {'writeProperty': 'GraphSageEmbedding',\n",
       "  'modelName': 'UserLikedBookModel',\n",
       "  'jobId': 'b406c390-dbd1-454f-b28c-c20915425f25',\n",
       "  'logProgress': True,\n",
       "  'nodeLabels': ['*'],\n",
       "  'relationshipTypes': ['*'],\n",
       "  'concurrency': 4,\n",
       "  'batchSize': 100,\n",
       "  'sudo': False,\n",
       "  'writeToResultStore': False,\n",
       "  'writeConcurrency': 4}}"
      ]
     },
     "execution_count": 19,
     "metadata": {},
     "output_type": "execute_result"
    }
   ],
   "source": [
    "dict(result.records[0])"
   ]
  },
  {
   "cell_type": "markdown",
   "metadata": {},
   "source": [
    "# FastRP embeddings\n",
    "\n",
    "FastRP is another algorithm to calculate graph embeddings. However it can only operate on a mono-partite Graph, which means that the graph should only have 1 node type.\n",
    "\n",
    "We can collapse our in-memory graph, so that we can build a sub-graph which only contains triples of the form \"book\"->predicate->\"book\".\n",
    "\n",
    "For this we introduce a new relationship \"LIKED_TOGETHER\". In short we will collapse the graph so that book A liked by User U and a book B also liked by User U will be connected by a \"LIKED_TOGETHER\" edge. In short we will collapse the graph so that book nodes connected by a user node will be connected directly."
   ]
  },
  {
   "cell_type": "code",
   "execution_count": 20,
   "metadata": {},
   "outputs": [],
   "source": [
    "create_undirected_RATED_relationship = \"\"\"\n",
    "CALL gds.graph.relationships.toUndirected(\n",
    "  'UserLikedBookProjection',\n",
    "  {relationshipType: 'RATED', mutateRelationshipType: 'INTERACTS'}\n",
    ")\n",
    "\"\"\""
   ]
  },
  {
   "cell_type": "code",
   "execution_count": 21,
   "metadata": {},
   "outputs": [
    {
     "name": "stdout",
     "output_type": "stream",
     "text": [
      "CPU times: user 6.22 ms, sys: 0 ns, total: 6.22 ms\n",
      "Wall time: 939 ms\n"
     ]
    }
   ],
   "source": [
    "%%time\n",
    "result = run_query(create_undirected_RATED_relationship)"
   ]
  },
  {
   "cell_type": "code",
   "execution_count": 22,
   "metadata": {},
   "outputs": [
    {
     "data": {
      "text/plain": [
       "{'inputRelationships': 4122111,\n",
       " 'relationshipsWritten': 8244222,\n",
       " 'mutateMillis': 0,\n",
       " 'postProcessingMillis': 0,\n",
       " 'preProcessingMillis': 1,\n",
       " 'computeMillis': 840,\n",
       " 'configuration': {'relationshipType': 'RATED',\n",
       "  'jobId': 'a8d6c66b-7254-4c5b-9c07-0e98cac01e74',\n",
       "  'logProgress': True,\n",
       "  'concurrency': 4,\n",
       "  'sudo': False,\n",
       "  'mutateRelationshipType': 'INTERACTS'}}"
      ]
     },
     "execution_count": 22,
     "metadata": {},
     "output_type": "execute_result"
    }
   ],
   "source": [
    "dict(result.records[0])"
   ]
  },
  {
   "cell_type": "code",
   "execution_count": 23,
   "metadata": {},
   "outputs": [],
   "source": [
    "create_monopartite_projection = \"\"\"\n",
    "CALL gds.collapsePath.mutate(\n",
    "    \"UserLikedBookProjection\",\n",
    "    {\n",
    "        pathTemplates: [[\"INTERACTS\", \"INTERACTS\"]],  // Connect Nodes which can be reached by traversing exactly two INTERACTS relationships\n",
    "        allowSelfLoops: false,\n",
    "        mutateRelationshipType: \"LIKED_TOGETHER\"\n",
    "    }\n",
    ")\n",
    "\"\"\""
   ]
  },
  {
   "cell_type": "code",
   "execution_count": 24,
   "metadata": {},
   "outputs": [
    {
     "name": "stdout",
     "output_type": "stream",
     "text": [
      "CPU times: user 7.47 ms, sys: 423 μs, total: 7.89 ms\n",
      "Wall time: 1min 23s\n"
     ]
    }
   ],
   "source": [
    "%%time\n",
    "result = run_query(create_monopartite_projection)"
   ]
  },
  {
   "cell_type": "code",
   "execution_count": 25,
   "metadata": {},
   "outputs": [
    {
     "data": {
      "text/plain": [
       "{'preProcessingMillis': 1,\n",
       " 'computeMillis': 82961,\n",
       " 'mutateMillis': 0,\n",
       " 'relationshipsWritten': 2201131070,\n",
       " 'configuration': {'jobId': '6ec037a7-8b23-4dd6-80eb-ecf84787185d',\n",
       "  'logProgress': True,\n",
       "  'pathTemplates': [['INTERACTS', 'INTERACTS']],\n",
       "  'nodeLabels': ['*'],\n",
       "  'relationshipTypes': ['*'],\n",
       "  'concurrency': 4,\n",
       "  'allowSelfLoops': False,\n",
       "  'sudo': False,\n",
       "  'mutateRelationshipType': 'LIKED_TOGETHER'}}"
      ]
     },
     "execution_count": 25,
     "metadata": {},
     "output_type": "execute_result"
    }
   ],
   "source": [
    "dict(result.records[0])"
   ]
  },
  {
   "cell_type": "code",
   "execution_count": 31,
   "metadata": {},
   "outputs": [],
   "source": [
    "write_fastRP_embeddings = \"\"\"\n",
    "CALL gds.fastRP.write(\n",
    "  'UserLikedBookProjection',\n",
    "  {\n",
    "    nodeLabels: [\"Book\"],\n",
    "    relationshipTypes: [\"LIKED_TOGETHER\"],\n",
    "    featureProperties: [\"average_rating\"],\n",
    "    propertyRatio: 0.1,\n",
    "    embeddingDimension: 64,\n",
    "    writeProperty: 'FastRPEmbedding',\n",
    "    randomSeed: 42\n",
    "  }\n",
    ")\n",
    "\"\"\""
   ]
  },
  {
   "cell_type": "code",
   "execution_count": 27,
   "metadata": {},
   "outputs": [
    {
     "name": "stdout",
     "output_type": "stream",
     "text": [
      "CPU times: user 3.03 ms, sys: 4.34 ms, total: 7.38 ms\n",
      "Wall time: 6.31 s\n"
     ]
    }
   ],
   "source": [
    "%%time\n",
    "result = run_query(write_fastRP_embeddings)"
   ]
  },
  {
   "cell_type": "code",
   "execution_count": 30,
   "metadata": {},
   "outputs": [
    {
     "data": {
      "text/plain": [
       "{'userID': 1,\n",
       " 'u.GraphSageEmbedding': [-0.0006400768921880103,\n",
       "  0.03949186780209071,\n",
       "  -0.01537951665436493,\n",
       "  -0.003094349954752823,\n",
       "  -0.002175244019297649,\n",
       "  0.526938001793839,\n",
       "  -0.0010038711977323968,\n",
       "  -0.0015490553456706374,\n",
       "  -0.00738799524537254,\n",
       "  0.026379587316462807,\n",
       "  0.015155414999621314,\n",
       "  -0.0019287100511406587,\n",
       "  -0.013117054105921996,\n",
       "  -0.0004498563749174485,\n",
       "  -0.0024982234004825824,\n",
       "  -0.0016805799692528609,\n",
       "  0.4866184506887437,\n",
       "  -0.005916970468893972,\n",
       "  -0.010609253566027575,\n",
       "  -0.010675220869345638,\n",
       "  -0.0015089586240653063,\n",
       "  -0.0005960872872248799,\n",
       "  -0.0059940137973593256,\n",
       "  -0.012615637092950585,\n",
       "  -0.004010478695018206,\n",
       "  -0.004744459971935296,\n",
       "  -0.010988312061494063,\n",
       "  0.3057899077918119,\n",
       "  -0.0022144040474706837,\n",
       "  -0.007329475981115031,\n",
       "  0.01130224635323663,\n",
       "  -0.0021614573109408077,\n",
       "  -0.000285035099589326,\n",
       "  -1.5776073823613153e-05,\n",
       "  -0.0005851975626876736,\n",
       "  -0.001903623114343038,\n",
       "  0.23361603022643884,\n",
       "  -0.0015453356494998583,\n",
       "  -0.0010245019424441697,\n",
       "  -0.014286883116106477,\n",
       "  -0.0016977564116237686,\n",
       "  0.3935776076310471,\n",
       "  -0.001648931343504774,\n",
       "  -0.002171816397022256,\n",
       "  -0.010606894343964982,\n",
       "  -0.0001550263274183501,\n",
       "  0.03195389277237691,\n",
       "  -0.0005610635269164613,\n",
       "  -0.008771918582606023,\n",
       "  0.06732785370743662,\n",
       "  -0.0020916040645022,\n",
       "  -0.008253211211646534,\n",
       "  -0.0038253317724830493,\n",
       "  -0.000602396716860559,\n",
       "  -0.012015244202450903,\n",
       "  -0.0010604721473111928,\n",
       "  0.09636418790158285,\n",
       "  -0.0074237914052676275,\n",
       "  -0.010694890847288833,\n",
       "  -0.00832396336001386,\n",
       "  -0.012335777528724856,\n",
       "  -0.0010776831793408669,\n",
       "  0.40358869902145994,\n",
       "  -0.0013091771194562371]}"
      ]
     },
     "execution_count": 30,
     "metadata": {},
     "output_type": "execute_result"
    }
   ],
   "source": [
    "dict(result.records[0])"
   ]
  },
  {
   "cell_type": "markdown",
   "metadata": {},
   "source": [
    "# Sampling the generated Embeddings"
   ]
  },
  {
   "cell_type": "code",
   "execution_count": 32,
   "metadata": {},
   "outputs": [
    {
     "data": {
      "text/html": [
       "<div>\n",
       "<style scoped>\n",
       "    .dataframe tbody tr th:only-of-type {\n",
       "        vertical-align: middle;\n",
       "    }\n",
       "\n",
       "    .dataframe tbody tr th {\n",
       "        vertical-align: top;\n",
       "    }\n",
       "\n",
       "    .dataframe thead th {\n",
       "        text-align: right;\n",
       "    }\n",
       "</style>\n",
       "<table border=\"1\" class=\"dataframe\">\n",
       "  <thead>\n",
       "    <tr style=\"text-align: right;\">\n",
       "      <th></th>\n",
       "      <th>userID</th>\n",
       "      <th>u.GraphSageEmbedding</th>\n",
       "    </tr>\n",
       "  </thead>\n",
       "  <tbody>\n",
       "    <tr>\n",
       "      <th>0</th>\n",
       "      <td>1</td>\n",
       "      <td>[-0.0006400768921880103, 0.03949186780209071, ...</td>\n",
       "    </tr>\n",
       "    <tr>\n",
       "      <th>1</th>\n",
       "      <td>2</td>\n",
       "      <td>[-0.0008057028957366731, -0.002561514378202998...</td>\n",
       "    </tr>\n",
       "    <tr>\n",
       "      <th>2</th>\n",
       "      <td>4</td>\n",
       "      <td>[-0.05573968682775346, -0.05138540736996429, -...</td>\n",
       "    </tr>\n",
       "  </tbody>\n",
       "</table>\n",
       "</div>"
      ],
      "text/plain": [
       "   userID                               u.GraphSageEmbedding\n",
       "0       1  [-0.0006400768921880103, 0.03949186780209071, ...\n",
       "1       2  [-0.0008057028957366731, -0.002561514378202998...\n",
       "2       4  [-0.05573968682775346, -0.05138540736996429, -..."
      ]
     },
     "execution_count": 32,
     "metadata": {},
     "output_type": "execute_result"
    }
   ],
   "source": [
    "import pandas as pd\n",
    "result = run_query(\"MATCH (u:User) return u.user_id AS userID, u.GraphSageEmbedding LIMIT 3\")\n",
    "user_examples = pd.DataFrame(result.records, columns=result.keys)\n",
    "user_examples"
   ]
  },
  {
   "cell_type": "code",
   "execution_count": 33,
   "metadata": {},
   "outputs": [
    {
     "data": {
      "text/html": [
       "<div>\n",
       "<style scoped>\n",
       "    .dataframe tbody tr th:only-of-type {\n",
       "        vertical-align: middle;\n",
       "    }\n",
       "\n",
       "    .dataframe tbody tr th {\n",
       "        vertical-align: top;\n",
       "    }\n",
       "\n",
       "    .dataframe thead th {\n",
       "        text-align: right;\n",
       "    }\n",
       "</style>\n",
       "<table border=\"1\" class=\"dataframe\">\n",
       "  <thead>\n",
       "    <tr style=\"text-align: right;\">\n",
       "      <th></th>\n",
       "      <th>origianlTitle</th>\n",
       "      <th>b.GraphSageEmbedding</th>\n",
       "      <th>b.FastRPEmbedding</th>\n",
       "    </tr>\n",
       "  </thead>\n",
       "  <tbody>\n",
       "    <tr>\n",
       "      <th>0</th>\n",
       "      <td>The Hunger Games</td>\n",
       "      <td>[-0.0005426318486682, 0.21622100706339661, -0....</td>\n",
       "      <td>[0.0008753109141252935, -0.0007138390792533755...</td>\n",
       "    </tr>\n",
       "    <tr>\n",
       "      <th>1</th>\n",
       "      <td>Harry Potter and the Philosopher's Stone</td>\n",
       "      <td>[-0.0007853847234457214, 0.20743241505472532, ...</td>\n",
       "      <td>[0.0008753113215789199, -0.0007138386717997491...</td>\n",
       "    </tr>\n",
       "    <tr>\n",
       "      <th>2</th>\n",
       "      <td>Twilight</td>\n",
       "      <td>[0.223892453111938, 0.05092713920645491, -0.00...</td>\n",
       "      <td>[0.0008738047908991575, -0.0007121643284335732...</td>\n",
       "    </tr>\n",
       "  </tbody>\n",
       "</table>\n",
       "</div>"
      ],
      "text/plain": [
       "                              origianlTitle  \\\n",
       "0                          The Hunger Games   \n",
       "1  Harry Potter and the Philosopher's Stone   \n",
       "2                                  Twilight   \n",
       "\n",
       "                                b.GraphSageEmbedding  \\\n",
       "0  [-0.0005426318486682, 0.21622100706339661, -0....   \n",
       "1  [-0.0007853847234457214, 0.20743241505472532, ...   \n",
       "2  [0.223892453111938, 0.05092713920645491, -0.00...   \n",
       "\n",
       "                                   b.FastRPEmbedding  \n",
       "0  [0.0008753109141252935, -0.0007138390792533755...  \n",
       "1  [0.0008753113215789199, -0.0007138386717997491...  \n",
       "2  [0.0008738047908991575, -0.0007121643284335732...  "
      ]
     },
     "execution_count": 33,
     "metadata": {},
     "output_type": "execute_result"
    }
   ],
   "source": [
    "import pandas as pd\n",
    "\n",
    "result = run_query(\"MATCH (b:Book) return b.original_title AS origianlTitle, b.GraphSageEmbedding, b.FastRPEmbedding LIMIT 3\")\n",
    "book_examples = pd.DataFrame(result.records, columns=result.keys)\n",
    "book_examples\n"
   ]
  },
  {
   "cell_type": "markdown",
   "metadata": {},
   "source": [
    "# Using Embeddings to generate \"SIMILAR_*\" Relationships"
   ]
  },
  {
   "cell_type": "markdown",
   "metadata": {},
   "source": [
    "As we used the `gds.*.write` function, the generated embeddings were written into our actual Neo4j database.\n",
    "However we will use the `gds.knn` implementation to find the k-nearest neighbords of every node within our embedding space.\n",
    "As with all other algorithms provided by `gds`, `gds.knn` can only operate on in-memory projections of neo4j graph.\n",
    "Therefore we have to create a new projection, which contains our genrated embeddings."
   ]
  },
  {
   "cell_type": "code",
   "execution_count": 34,
   "metadata": {},
   "outputs": [],
   "source": [
    "create_user_book_embeddings_projection = \"\"\"\n",
    "MATCH (src:User)-[r:RATED]->(target:Book)\n",
    "RETURN gds.graph.project(\n",
    "    \"UserBookEmbeddingsProjection\",\n",
    "    src, \n",
    "    target,\n",
    "    {\n",
    "        sourceNodeLabels: labels(src),\n",
    "        sourceNodeProperties: src { .GraphSageEmbedding },\n",
    "        targetNodeLabels: labels(target),\n",
    "        targetNodeProperties: target { .GraphSageEmbedding, .FastRPEmbedding },\n",
    "        relationshipType: type(r)\n",
    "    }\n",
    ")\n",
    "\"\"\""
   ]
  },
  {
   "cell_type": "code",
   "execution_count": 35,
   "metadata": {},
   "outputs": [
    {
     "name": "stdout",
     "output_type": "stream",
     "text": [
      "CPU times: user 7.34 ms, sys: 0 ns, total: 7.34 ms\n",
      "Wall time: 53.5 s\n"
     ]
    }
   ],
   "source": [
    "%%time\n",
    "result = run_query(create_user_book_embeddings_projection)"
   ]
  },
  {
   "cell_type": "code",
   "execution_count": 36,
   "metadata": {},
   "outputs": [
    {
     "data": {
      "text/plain": [
       "{'gds.graph.project(\\n    \"UserBookEmbeddingsProjection\",\\n    src, \\n    target,\\n    {\\n        sourceNodeLabels: labels(src),\\n        sourceNodeProperties: src { .GraphSageEmbedding },\\n        targetNodeLabels: labels(target),\\n        targetNodeProperties: target { .GraphSageEmbedding, .FastRPEmbedding },\\n        relationshipType: type(r)\\n    }\\n)': {'relationshipCount': 5976479,\n",
       "  'graphName': 'UserBookEmbeddingsProjection',\n",
       "  'query': '\\nMATCH (src:User)-[r:RATED]->(target:Book)\\nRETURN gds.graph.project(\\n    \"UserBookEmbeddingsProjection\",\\n    src, \\n    target,\\n    {\\n        sourceNodeLabels: labels(src),\\n        sourceNodeProperties: src { .GraphSageEmbedding },\\n        targetNodeLabels: labels(target),\\n        targetNodeProperties: target { .GraphSageEmbedding, .FastRPEmbedding },\\n        relationshipType: type(r)\\n    }\\n)\\n',\n",
       "  'projectMillis': 53346,\n",
       "  'configuration': {'readConcurrency': 4,\n",
       "   'undirectedRelationshipTypes': [],\n",
       "   'jobId': '0b90b47e-d2aa-4dfd-98be-82959d4c9349',\n",
       "   'logProgress': True,\n",
       "   'query': '\\nMATCH (src:User)-[r:RATED]->(target:Book)\\nRETURN gds.graph.project(\\n    \"UserBookEmbeddingsProjection\",\\n    src, \\n    target,\\n    {\\n        sourceNodeLabels: labels(src),\\n        sourceNodeProperties: src { .GraphSageEmbedding },\\n        targetNodeLabels: labels(target),\\n        targetNodeProperties: target { .GraphSageEmbedding, .FastRPEmbedding },\\n        relationshipType: type(r)\\n    }\\n)\\n',\n",
       "   'inverseIndexedRelationshipTypes': [],\n",
       "   'creationTime': neo4j.time.DateTime(2024, 9, 25, 18, 53, 3, 976965048, tzinfo=<UTC>)},\n",
       "  'nodeCount': 63424}}"
      ]
     },
     "execution_count": 36,
     "metadata": {},
     "output_type": "execute_result"
    }
   ],
   "source": [
    "dict(result.records[0])"
   ]
  },
  {
   "cell_type": "code",
   "execution_count": 37,
   "metadata": {},
   "outputs": [],
   "source": [
    "find_book_knn_graphsage = \"\"\"\n",
    "CALL gds.knn.filtered.write(\n",
    "    \"UserBookEmbeddingsProjection\",\n",
    "    {\n",
    "        writeRelationshipType: \"SIMILAR_GRAPHSAGE_EMBEDDING\",\n",
    "        writeProperty: \"score\",\n",
    "        topK: 25,\n",
    "        nodeProperties: [\n",
    "            {GraphSageEmbedding: \"COSINE\"}\n",
    "        ],\n",
    "        sourceNodeFilter: \"Book\",\n",
    "        targetNodeFilter: \"Book\"\n",
    "    }\n",
    ")\n",
    "\"\"\""
   ]
  },
  {
   "cell_type": "code",
   "execution_count": 38,
   "metadata": {},
   "outputs": [
    {
     "name": "stdout",
     "output_type": "stream",
     "text": [
      "CPU times: user 3.4 ms, sys: 2.35 ms, total: 5.75 ms\n",
      "Wall time: 28.4 s\n"
     ]
    }
   ],
   "source": [
    "%%time\n",
    "result = run_query(find_book_knn_graphsage)"
   ]
  },
  {
   "cell_type": "code",
   "execution_count": 39,
   "metadata": {},
   "outputs": [
    {
     "data": {
      "text/plain": [
       "{'ranIterations': 6,\n",
       " 'didConverge': True,\n",
       " 'nodePairsConsidered': 147573544,\n",
       " 'preProcessingMillis': 0,\n",
       " 'computeMillis': 19915,\n",
       " 'writeMillis': 8416,\n",
       " 'postProcessingMillis': 0,\n",
       " 'nodesCompared': 63424,\n",
       " 'relationshipsWritten': 250000,\n",
       " 'similarityDistribution': {'min': 0.9990806579589844,\n",
       "  'p5': 0.9999618530273438,\n",
       "  'max': 0.9999999999999999,\n",
       "  'p99': 0.9999961853027344,\n",
       "  'p1': 0.9999122619628906,\n",
       "  'p10': 0.9999771118164062,\n",
       "  'p90': 0.9999961853027344,\n",
       "  'p50': 0.9999961853027344,\n",
       "  'p25': 0.9999923706054688,\n",
       "  'p75': 0.9999961853027344,\n",
       "  'p95': 0.9999961853027344,\n",
       "  'mean': 0.9999900568084716,\n",
       "  'p100': 0.9999961853027344,\n",
       "  'stdDev': 1.8394500088319764e-05},\n",
       " 'configuration': {'writeProperty': 'score',\n",
       "  'writeRelationshipType': 'SIMILAR_GRAPHSAGE_EMBEDDING',\n",
       "  'jobId': 'cb9cde69-4356-445f-b439-4fdd04658390',\n",
       "  'deltaThreshold': 0.001,\n",
       "  'topK': 25,\n",
       "  'similarityCutoff': 0.0,\n",
       "  'perturbationRate': 0.0,\n",
       "  'sudo': False,\n",
       "  'maxIterations': 100,\n",
       "  'targetNodeFilter': 'NodeFilter[label=Book]',\n",
       "  'writeToResultStore': False,\n",
       "  'writeConcurrency': 4,\n",
       "  'sourceNodeFilter': 'NodeFilter[label=Book]',\n",
       "  'sampleRate': 0.5,\n",
       "  'initialSampler': 'UNIFORM',\n",
       "  'nodeProperties': {'GraphSageEmbedding': 'COSINE'},\n",
       "  'logProgress': True,\n",
       "  'seedTargetNodes': False,\n",
       "  'nodeLabels': ['*'],\n",
       "  'randomJoins': 10,\n",
       "  'concurrency': 4,\n",
       "  'relationshipTypes': ['*']}}"
      ]
     },
     "execution_count": 39,
     "metadata": {},
     "output_type": "execute_result"
    }
   ],
   "source": [
    "dict(result.records[0])"
   ]
  },
  {
   "cell_type": "code",
   "execution_count": 40,
   "metadata": {},
   "outputs": [],
   "source": [
    "find_user_knn_graphsage = \"\"\"\n",
    "CALL gds.knn.filtered.write(\n",
    "    \"UserBookEmbeddingsProjection\",\n",
    "    {\n",
    "        writeRelationshipType: \"SIMILAR_GRAPHSAGE_EMBEDDING\",\n",
    "        writeProperty: \"score\",\n",
    "        topK: 25,\n",
    "        nodeProperties: [\n",
    "            {GraphSageEmbedding: \"COSINE\"}\n",
    "        ],\n",
    "        sourceNodeFilter: \"User\",\n",
    "        targetNodeFilter: \"User\"\n",
    "    }\n",
    ")\n",
    "\"\"\""
   ]
  },
  {
   "cell_type": "code",
   "execution_count": 41,
   "metadata": {},
   "outputs": [
    {
     "name": "stdout",
     "output_type": "stream",
     "text": [
      "CPU times: user 4.39 ms, sys: 3.46 ms, total: 7.86 ms\n",
      "Wall time: 1min 8s\n"
     ]
    }
   ],
   "source": [
    "%%time\n",
    "result = run_query(find_user_knn_graphsage)"
   ]
  },
  {
   "cell_type": "code",
   "execution_count": 42,
   "metadata": {},
   "outputs": [
    {
     "data": {
      "text/plain": [
       "{'ranIterations': 6,\n",
       " 'didConverge': True,\n",
       " 'nodePairsConsidered': 147503004,\n",
       " 'preProcessingMillis': 0,\n",
       " 'computeMillis': 35618,\n",
       " 'writeMillis': 32975,\n",
       " 'postProcessingMillis': 0,\n",
       " 'nodesCompared': 63424,\n",
       " 'relationshipsWritten': 1335600,\n",
       " 'similarityDistribution': {'min': 0.8233375549316406,\n",
       "  'p5': 0.9794960021972656,\n",
       "  'max': 0.9999999999999999,\n",
       "  'p99': 0.9998931884765625,\n",
       "  'p1': 0.9590415954589844,\n",
       "  'p10': 0.9868507385253906,\n",
       "  'p90': 0.9995307922363281,\n",
       "  'p50': 0.9979820251464844,\n",
       "  'p25': 0.9943466186523438,\n",
       "  'p75': 0.9990425109863281,\n",
       "  'p95': 0.9997100830078125,\n",
       "  'mean': 0.9948804206139815,\n",
       "  'p100': 0.9999961853027344,\n",
       "  'stdDev': 0.008198846226564369},\n",
       " 'configuration': {'writeProperty': 'score',\n",
       "  'writeRelationshipType': 'SIMILAR_GRAPHSAGE_EMBEDDING',\n",
       "  'jobId': '37a294d0-683f-4b83-87e8-57c53e246f86',\n",
       "  'deltaThreshold': 0.001,\n",
       "  'topK': 25,\n",
       "  'similarityCutoff': 0.0,\n",
       "  'perturbationRate': 0.0,\n",
       "  'sudo': False,\n",
       "  'maxIterations': 100,\n",
       "  'targetNodeFilter': 'NodeFilter[label=User]',\n",
       "  'writeToResultStore': False,\n",
       "  'writeConcurrency': 4,\n",
       "  'sourceNodeFilter': 'NodeFilter[label=User]',\n",
       "  'sampleRate': 0.5,\n",
       "  'initialSampler': 'UNIFORM',\n",
       "  'nodeProperties': {'GraphSageEmbedding': 'COSINE'},\n",
       "  'logProgress': True,\n",
       "  'seedTargetNodes': False,\n",
       "  'nodeLabels': ['*'],\n",
       "  'randomJoins': 10,\n",
       "  'concurrency': 4,\n",
       "  'relationshipTypes': ['*']}}"
      ]
     },
     "execution_count": 42,
     "metadata": {},
     "output_type": "execute_result"
    }
   ],
   "source": [
    "dict(result.records[0])"
   ]
  },
  {
   "cell_type": "code",
   "execution_count": 43,
   "metadata": {},
   "outputs": [],
   "source": [
    "find_knn_fastrp = \"\"\"\n",
    "CALL gds.knn.write(\n",
    "    \"UserBookEmbeddingsProjection\",\n",
    "    {\n",
    "        nodeLabels: [\"Book\"],\n",
    "        writeRelationshipType: \"SIMILAR_FASTRP_EMBEDDING\",\n",
    "        writeProperty: \"score\",\n",
    "        topK: 25,\n",
    "        nodeProperties: [\n",
    "            {FastRPEmbedding: \"COSINE\"}\n",
    "        ]\n",
    "    }\n",
    ")\n",
    "\"\"\""
   ]
  },
  {
   "cell_type": "code",
   "execution_count": 44,
   "metadata": {},
   "outputs": [
    {
     "name": "stdout",
     "output_type": "stream",
     "text": [
      "CPU times: user 6.96 ms, sys: 0 ns, total: 6.96 ms\n",
      "Wall time: 6.86 s\n"
     ]
    }
   ],
   "source": [
    "%%time\n",
    "result = run_query(find_knn_fastrp)"
   ]
  },
  {
   "cell_type": "code",
   "execution_count": 45,
   "metadata": {},
   "outputs": [
    {
     "data": {
      "text/plain": [
       "{'ranIterations': 2,\n",
       " 'didConverge': True,\n",
       " 'nodePairsConsidered': 10795338,\n",
       " 'preProcessingMillis': 1,\n",
       " 'computeMillis': 1386,\n",
       " 'writeMillis': 5386,\n",
       " 'postProcessingMillis': 0,\n",
       " 'nodesCompared': 10000,\n",
       " 'relationshipsWritten': 250000,\n",
       " 'similarityDistribution': {'min': 0.9999961853027344,\n",
       "  'p5': 1.0000038146972656,\n",
       "  'max': 1.000007629394531,\n",
       "  'p99': 1.0000038146972656,\n",
       "  'p1': 1.0000038146972656,\n",
       "  'p10': 1.0000038146972656,\n",
       "  'p90': 1.0000038146972656,\n",
       "  'p50': 1.0000038146972656,\n",
       "  'p25': 1.0000038146972656,\n",
       "  'p75': 1.0000038146972656,\n",
       "  'p95': 1.0000038146972656,\n",
       "  'mean': 1.0000038123474122,\n",
       "  'p100': 1.0000038146972656,\n",
       "  'stdDev': 1.3387470914927535e-07},\n",
       " 'configuration': {'writeProperty': 'score',\n",
       "  'writeRelationshipType': 'SIMILAR_FASTRP_EMBEDDING',\n",
       "  'jobId': '08e4160e-3737-401e-bf0f-8a3d6e966dc5',\n",
       "  'deltaThreshold': 0.001,\n",
       "  'topK': 25,\n",
       "  'similarityCutoff': 0.0,\n",
       "  'perturbationRate': 0.0,\n",
       "  'sudo': False,\n",
       "  'maxIterations': 100,\n",
       "  'writeToResultStore': False,\n",
       "  'writeConcurrency': 4,\n",
       "  'sampleRate': 0.5,\n",
       "  'initialSampler': 'UNIFORM',\n",
       "  'nodeProperties': {'FastRPEmbedding': 'COSINE'},\n",
       "  'logProgress': True,\n",
       "  'nodeLabels': ['Book'],\n",
       "  'randomJoins': 10,\n",
       "  'concurrency': 4,\n",
       "  'relationshipTypes': ['*']}}"
      ]
     },
     "execution_count": 45,
     "metadata": {},
     "output_type": "execute_result"
    }
   ],
   "source": [
    "dict(result.records[0])"
   ]
  },
  {
   "cell_type": "code",
   "execution_count": null,
   "metadata": {},
   "outputs": [],
   "source": []
  }
 ],
 "metadata": {
  "kernelspec": {
   "display_name": ".venv",
   "language": "python",
   "name": "python3"
  },
  "language_info": {
   "codemirror_mode": {
    "name": "ipython",
    "version": 3
   },
   "file_extension": ".py",
   "mimetype": "text/x-python",
   "name": "python",
   "nbconvert_exporter": "python",
   "pygments_lexer": "ipython3",
   "version": "3.10.14"
  }
 },
 "nbformat": 4,
 "nbformat_minor": 2
}
